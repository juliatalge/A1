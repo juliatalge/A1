{
  "nbformat": 4,
  "nbformat_minor": 0,
  "metadata": {
    "colab": {
      "provenance": [],
      "authorship_tag": "ABX9TyMrGRAHZBZdi4ZcCK30lvoT",
      "include_colab_link": true
    },
    "kernelspec": {
      "name": "python3",
      "display_name": "Python 3"
    },
    "language_info": {
      "name": "python"
    }
  },
  "cells": [
    {
      "cell_type": "markdown",
      "metadata": {
        "id": "view-in-github",
        "colab_type": "text"
      },
      "source": [
        "<a href=\"https://colab.research.google.com/github/juliatalge/A1/blob/main/A1.ipynb\" target=\"_parent\"><img src=\"https://colab.research.google.com/assets/colab-badge.svg\" alt=\"Open In Colab\"/></a>"
      ]
    },
    {
      "cell_type": "code",
      "execution_count": null,
      "metadata": {
        "id": "xLglPFleigAJ"
      },
      "outputs": [],
      "source": [
        "import pandas as pd\n",
        "import matplotlib.pyplot as plt"
      ]
    },
    {
      "cell_type": "code",
      "source": [
        "# Lista de idades\n",
        "idades = [24, 23, 45, 33, 24, 33, 42, 38, 33, 45, 24, 33]"
      ],
      "metadata": {
        "id": "b7dMHm29iyFR"
      },
      "execution_count": null,
      "outputs": []
    },
    {
      "cell_type": "code",
      "source": [
        "# Função para calcular a média das idades\n",
        "def calcular_media(lista):\n",
        "    media = sum(lista) / len(lista)\n",
        "    print(f\"A Média das idades é igual a {media:.2f}\")\n",
        "    return media"
      ],
      "metadata": {
        "id": "cucun01ti0JZ"
      },
      "execution_count": null,
      "outputs": []
    },
    {
      "cell_type": "code",
      "source": [
        "# Função para montar a distribuição de frequência das idades\n",
        "def distribuicao_frequencia(lista):\n",
        "    df = pd.DataFrame(lista, columns=['Idades'])\n",
        "    frequencia = df['Idades'].value_counts().sort_index()\n",
        "    return frequencia"
      ],
      "metadata": {
        "id": "HIyalZh0i2uh"
      },
      "execution_count": null,
      "outputs": []
    },
    {
      "cell_type": "code",
      "source": [
        "# Calcular média\n",
        "calcular_media(idades)"
      ],
      "metadata": {
        "colab": {
          "base_uri": "https://localhost:8080/"
        },
        "id": "d_eJqC_-i4xh",
        "outputId": "50ef0192-d2f0-48a4-f449-18378a083c0a"
      },
      "execution_count": null,
      "outputs": [
        {
          "output_type": "stream",
          "name": "stdout",
          "text": [
            "A Média das idades é igual a 33.08\n"
          ]
        },
        {
          "output_type": "execute_result",
          "data": {
            "text/plain": [
              "33.083333333333336"
            ]
          },
          "metadata": {},
          "execution_count": 5
        }
      ]
    },
    {
      "cell_type": "code",
      "source": [
        "# Obter distribuição de frequência\n",
        "frequencia_idades = distribuicao_frequencia(idades)\n",
        "frequencia_idades_df = frequencia_idades.reset_index()\n",
        "frequencia_idades_df.columns = ['Idade', 'Frequência']"
      ],
      "metadata": {
        "id": "fKx6ExfLi_E5"
      },
      "execution_count": null,
      "outputs": []
    },
    {
      "cell_type": "code",
      "source": [
        "# Visualização da distribuição de frequência\n",
        "plt.bar(frequencia_idades_df['Idade'], frequencia_idades_df['Frequência'], color='skyblue')\n",
        "plt.xlabel('Idade')\n",
        "plt.ylabel('Frequência')\n",
        "plt.title('Distribuição de Frequência das Idades')\n",
        "plt.show()"
      ],
      "metadata": {
        "colab": {
          "base_uri": "https://localhost:8080/",
          "height": 472
        },
        "id": "YSNswgJ4i_jN",
        "outputId": "debabea0-aa1b-4465-a978-3c0849befdb1"
      },
      "execution_count": null,
      "outputs": [
        {
          "output_type": "display_data",
          "data": {
            "text/plain": [
              "<Figure size 640x480 with 1 Axes>"
            ],
            "image/png": "[encoded data removed]"
          },
          "metadata": {}
        }
      ]
    }
  ]
}